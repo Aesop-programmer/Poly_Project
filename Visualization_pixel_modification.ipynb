{
 "cells": [
  {
   "cell_type": "code",
   "execution_count": 5,
   "id": "b8beb245-057d-4f80-8be6-7ad94f154047",
   "metadata": {},
   "outputs": [
    {
     "name": "stdout",
     "output_type": "stream",
     "text": [
      "C:\\Users\\abc09\\Desktop\\master\\蒙特婁理工大學實習\\Poly_Project\n"
     ]
    }
   ],
   "source": [
    "cd C:\\Users\\abc09\\Desktop\\master\\蒙特婁理工大學實習\\Poly_Project"
   ]
  },
  {
   "cell_type": "code",
   "execution_count": 6,
   "id": "12b6fe80-41c9-4969-9203-1ed8fe4bfc0f",
   "metadata": {},
   "outputs": [
    {
     "name": "stdout",
     "output_type": "stream",
     "text": [
      "找不到檔案 - C:\\Users\\abc09\\AppData\\Local\\Temp\\doskey-macros.txt\n",
      "Defaulting to user installation because normal site-packages is not writeable\n",
      "Requirement already satisfied: torch in c:\\users\\abc09\\appdata\\local\\packages\\pythonsoftwarefoundation.python.3.12_qbz5n2kfra8p0\\localcache\\local-packages\\python312\\site-packages (2.8.0+cu126)\n",
      "Requirement already satisfied: torchvision in c:\\users\\abc09\\appdata\\local\\packages\\pythonsoftwarefoundation.python.3.12_qbz5n2kfra8p0\\localcache\\local-packages\\python312\\site-packages (0.23.0+cu126)\n",
      "Requirement already satisfied: ipywidgets in c:\\users\\abc09\\appdata\\local\\packages\\pythonsoftwarefoundation.python.3.12_qbz5n2kfra8p0\\localcache\\local-packages\\python312\\site-packages (8.1.7)\n",
      "Requirement already satisfied: filelock in c:\\users\\abc09\\appdata\\local\\packages\\pythonsoftwarefoundation.python.3.12_qbz5n2kfra8p0\\localcache\\local-packages\\python312\\site-packages (from torch) (3.13.1)\n",
      "Requirement already satisfied: typing-extensions>=4.10.0 in c:\\users\\abc09\\appdata\\local\\packages\\pythonsoftwarefoundation.python.3.12_qbz5n2kfra8p0\\localcache\\local-packages\\python312\\site-packages (from torch) (4.14.1)\n",
      "Requirement already satisfied: sympy>=1.13.3 in c:\\users\\abc09\\appdata\\local\\packages\\pythonsoftwarefoundation.python.3.12_qbz5n2kfra8p0\\localcache\\local-packages\\python312\\site-packages (from torch) (1.13.3)\n",
      "Requirement already satisfied: networkx in c:\\users\\abc09\\appdata\\local\\packages\\pythonsoftwarefoundation.python.3.12_qbz5n2kfra8p0\\localcache\\local-packages\\python312\\site-packages (from torch) (3.3)\n",
      "Requirement already satisfied: jinja2 in c:\\users\\abc09\\appdata\\local\\packages\\pythonsoftwarefoundation.python.3.12_qbz5n2kfra8p0\\localcache\\local-packages\\python312\\site-packages (from torch) (3.1.6)\n",
      "Requirement already satisfied: fsspec in c:\\users\\abc09\\appdata\\local\\packages\\pythonsoftwarefoundation.python.3.12_qbz5n2kfra8p0\\localcache\\local-packages\\python312\\site-packages (from torch) (2024.6.1)\n",
      "Requirement already satisfied: setuptools in c:\\users\\abc09\\appdata\\local\\packages\\pythonsoftwarefoundation.python.3.12_qbz5n2kfra8p0\\localcache\\local-packages\\python312\\site-packages (from torch) (72.2.0)\n",
      "Requirement already satisfied: numpy in c:\\users\\abc09\\appdata\\local\\packages\\pythonsoftwarefoundation.python.3.12_qbz5n2kfra8p0\\localcache\\local-packages\\python312\\site-packages (from torchvision) (1.26.4)\n",
      "Requirement already satisfied: pillow!=8.3.*,>=5.3.0 in c:\\users\\abc09\\appdata\\local\\packages\\pythonsoftwarefoundation.python.3.12_qbz5n2kfra8p0\\localcache\\local-packages\\python312\\site-packages (from torchvision) (11.1.0)\n",
      "Requirement already satisfied: comm>=0.1.3 in c:\\users\\abc09\\appdata\\local\\packages\\pythonsoftwarefoundation.python.3.12_qbz5n2kfra8p0\\localcache\\local-packages\\python312\\site-packages (from ipywidgets) (0.2.3)\n",
      "Requirement already satisfied: ipython>=6.1.0 in c:\\users\\abc09\\appdata\\local\\packages\\pythonsoftwarefoundation.python.3.12_qbz5n2kfra8p0\\localcache\\local-packages\\python312\\site-packages (from ipywidgets) (9.5.0)\n",
      "Requirement already satisfied: traitlets>=4.3.1 in c:\\users\\abc09\\appdata\\local\\packages\\pythonsoftwarefoundation.python.3.12_qbz5n2kfra8p0\\localcache\\local-packages\\python312\\site-packages (from ipywidgets) (5.14.3)\n",
      "Requirement already satisfied: widgetsnbextension~=4.0.14 in c:\\users\\abc09\\appdata\\local\\packages\\pythonsoftwarefoundation.python.3.12_qbz5n2kfra8p0\\localcache\\local-packages\\python312\\site-packages (from ipywidgets) (4.0.14)\n",
      "Requirement already satisfied: jupyterlab_widgets~=3.0.15 in c:\\users\\abc09\\appdata\\local\\packages\\pythonsoftwarefoundation.python.3.12_qbz5n2kfra8p0\\localcache\\local-packages\\python312\\site-packages (from ipywidgets) (3.0.15)\n",
      "Requirement already satisfied: colorama in c:\\users\\abc09\\appdata\\local\\packages\\pythonsoftwarefoundation.python.3.12_qbz5n2kfra8p0\\localcache\\local-packages\\python312\\site-packages (from ipython>=6.1.0->ipywidgets) (0.4.6)\n",
      "Requirement already satisfied: decorator in c:\\users\\abc09\\appdata\\local\\packages\\pythonsoftwarefoundation.python.3.12_qbz5n2kfra8p0\\localcache\\local-packages\\python312\\site-packages (from ipython>=6.1.0->ipywidgets) (5.2.1)\n",
      "Requirement already satisfied: ipython-pygments-lexers in c:\\users\\abc09\\appdata\\local\\packages\\pythonsoftwarefoundation.python.3.12_qbz5n2kfra8p0\\localcache\\local-packages\\python312\\site-packages (from ipython>=6.1.0->ipywidgets) (1.1.1)\n",
      "Requirement already satisfied: jedi>=0.16 in c:\\users\\abc09\\appdata\\local\\packages\\pythonsoftwarefoundation.python.3.12_qbz5n2kfra8p0\\localcache\\local-packages\\python312\\site-packages (from ipython>=6.1.0->ipywidgets) (0.19.2)\n",
      "Requirement already satisfied: matplotlib-inline in c:\\users\\abc09\\appdata\\local\\packages\\pythonsoftwarefoundation.python.3.12_qbz5n2kfra8p0\\localcache\\local-packages\\python312\\site-packages (from ipython>=6.1.0->ipywidgets) (0.1.7)\n",
      "Requirement already satisfied: prompt_toolkit<3.1.0,>=3.0.41 in c:\\users\\abc09\\appdata\\local\\packages\\pythonsoftwarefoundation.python.3.12_qbz5n2kfra8p0\\localcache\\local-packages\\python312\\site-packages (from ipython>=6.1.0->ipywidgets) (3.0.52)\n",
      "Requirement already satisfied: pygments>=2.4.0 in c:\\users\\abc09\\appdata\\local\\packages\\pythonsoftwarefoundation.python.3.12_qbz5n2kfra8p0\\localcache\\local-packages\\python312\\site-packages (from ipython>=6.1.0->ipywidgets) (2.19.2)\n",
      "Requirement already satisfied: stack_data in c:\\users\\abc09\\appdata\\local\\packages\\pythonsoftwarefoundation.python.3.12_qbz5n2kfra8p0\\localcache\\local-packages\\python312\\site-packages (from ipython>=6.1.0->ipywidgets) (0.6.3)\n",
      "Requirement already satisfied: mpmath<1.4,>=1.1.0 in c:\\users\\abc09\\appdata\\local\\packages\\pythonsoftwarefoundation.python.3.12_qbz5n2kfra8p0\\localcache\\local-packages\\python312\\site-packages (from sympy>=1.13.3->torch) (1.3.0)\n",
      "Requirement already satisfied: MarkupSafe>=2.0 in c:\\users\\abc09\\appdata\\local\\packages\\pythonsoftwarefoundation.python.3.12_qbz5n2kfra8p0\\localcache\\local-packages\\python312\\site-packages (from jinja2->torch) (2.1.5)\n",
      "Requirement already satisfied: parso<0.9.0,>=0.8.4 in c:\\users\\abc09\\appdata\\local\\packages\\pythonsoftwarefoundation.python.3.12_qbz5n2kfra8p0\\localcache\\local-packages\\python312\\site-packages (from jedi>=0.16->ipython>=6.1.0->ipywidgets) (0.8.5)\n",
      "Requirement already satisfied: wcwidth in c:\\users\\abc09\\appdata\\local\\packages\\pythonsoftwarefoundation.python.3.12_qbz5n2kfra8p0\\localcache\\local-packages\\python312\\site-packages (from prompt_toolkit<3.1.0,>=3.0.41->ipython>=6.1.0->ipywidgets) (0.2.14)\n",
      "Requirement already satisfied: executing>=1.2.0 in c:\\users\\abc09\\appdata\\local\\packages\\pythonsoftwarefoundation.python.3.12_qbz5n2kfra8p0\\localcache\\local-packages\\python312\\site-packages (from stack_data->ipython>=6.1.0->ipywidgets) (2.2.1)\n",
      "Requirement already satisfied: asttokens>=2.1.0 in c:\\users\\abc09\\appdata\\local\\packages\\pythonsoftwarefoundation.python.3.12_qbz5n2kfra8p0\\localcache\\local-packages\\python312\\site-packages (from stack_data->ipython>=6.1.0->ipywidgets) (3.0.0)\n",
      "Requirement already satisfied: pure-eval in c:\\users\\abc09\\appdata\\local\\packages\\pythonsoftwarefoundation.python.3.12_qbz5n2kfra8p0\\localcache\\local-packages\\python312\\site-packages (from stack_data->ipython>=6.1.0->ipywidgets) (0.2.3)\n"
     ]
    },
    {
     "name": "stderr",
     "output_type": "stream",
     "text": [
      "\n",
      "[notice] A new release of pip is available: 25.0.1 -> 25.2\n",
      "[notice] To update, run: C:\\Users\\abc09\\AppData\\Local\\Microsoft\\WindowsApps\\PythonSoftwareFoundation.Python.3.12_qbz5n2kfra8p0\\python.exe -m pip install --upgrade pip\n"
     ]
    },
    {
     "name": "stdout",
     "output_type": "stream",
     "text": [
      "原始圖標籤: cat\n"
     ]
    }
   ],
   "source": [
    "# === 1. 安裝需要的套件 ===\n",
    "!pip install torch torchvision ipywidgets\n",
    "\n",
    "\n",
    "# === 2. 匯入套件 ===\n",
    "import torch\n",
    "import torch.nn as nn\n",
    "import torch.nn.functional as F\n",
    "import matplotlib.pyplot as plt\n",
    "import numpy as np\n",
    "from torchvision import datasets, transforms\n",
    "from ipywidgets import interact, IntSlider, FloatSlider, Dropdown\n",
    "import models\n",
    "\n",
    "# === 3. Dataset (CIFAR-10) ===\n",
    "transform = transforms.Compose([\n",
    "    transforms.ToTensor(),\n",
    "])\n",
    "\n",
    "cifar10_test = datasets.CIFAR10(root=\"./data\", train=False, download=True, transform=transform)\n",
    "\n",
    "CIFAR10_CLASSES = [\n",
    "    \"airplane\",\"automobile\",\"bird\",\"cat\",\"deer\",\n",
    "    \"dog\",\"frog\",\"horse\",\"ship\",\"truck\"\n",
    "]\n",
    "\n",
    "# === 4. Normalize / Denormalize (ImageNet stats for pretrained models) ===\n",
    "__imagenet_stats = {'mean': [0.485, 0.456, 0.406],\n",
    "                   'std': [0.229, 0.224, 0.225]}\n",
    "\n",
    "def normalize(img):\n",
    "    mean = torch.tensor(__imagenet_stats['mean']).view(3,1,1)\n",
    "    std = torch.tensor(__imagenet_stats['std']).view(3,1,1)\n",
    "    return (img - mean) / std\n",
    "\n",
    "def tensor_to_img(t):\n",
    "    t = t.cpu().detach().numpy()\n",
    "    if t.ndim == 3:\n",
    "        t = np.transpose(t, (1, 2, 0))\n",
    "    return np.clip(t, 0, 1)\n",
    "\n",
    "\n",
    "# === 5. 載入模型 (用預訓練 ResNet18 for demo) ===\n",
    "device = \"cuda\" if torch.cuda.is_available() else \"cpu\"\n",
    "\n",
    "model = models.__dict__[\"resnet_binary\"]\n",
    "model_config = {'input_size': 32, 'dataset': \"cifar10\"}\n",
    "model = model(**model_config)\n",
    "checkpoint_bin = torch.load(\n",
    "    \"C:/Users/abc09/Desktop/master/蒙特婁理工大學實習/Poly_Project/model_best_cifar10_bin_wo_bn.pth.tar\"\n",
    ")\n",
    "model.load_state_dict(checkpoint_bin['state_dict'])\n",
    "model.eval()\n",
    "model.to(device)\n",
    "\n",
    "# === 6. 抓取 activations ===\n",
    "def get_activations(model, x):\n",
    "    activations = {}\n",
    "    activations_inp = {}\n",
    "    hooks = []\n",
    "\n",
    "    def save_output(name):\n",
    "        def hook(module, inp, out):\n",
    "            activations[name] = out.detach().cpu()\n",
    "            activations_inp[name] = inp[0].detach().cpu()\n",
    "        return hook\n",
    "\n",
    "    for name, module in model.named_modules():\n",
    "        if isinstance(module, (nn.Conv2d, nn.Linear)):\n",
    "            hooks.append(module.register_forward_hook(save_output(name)))\n",
    "\n",
    "    with torch.no_grad():\n",
    "        _ = model(x)\n",
    "\n",
    "    for h in hooks:\n",
    "        h.remove()\n",
    "\n",
    "    return activations, activations_inp\n",
    "\n",
    "# === 7. baseline (挑一張測試圖) ===\n",
    "img_raw, label = cifar10_test[0]\n",
    "x_orig = normalize(img_raw).unsqueeze(0).to(device)\n",
    "\n",
    "acts_orig, acts_orig_inp = get_activations(model, x_orig)\n",
    "\n",
    "layer_names = list(acts_orig.keys())\n",
    "layer_names_inp = list(acts_orig_inp.keys())\n",
    "\n",
    "print(f\"原始圖標籤: {CIFAR10_CLASSES[label]}\")"
   ]
  },
  {
   "cell_type": "code",
   "execution_count": 19,
   "id": "8464accc-c048-4088-b7a3-c62a013a9bef",
   "metadata": {},
   "outputs": [
    {
     "data": {
      "application/vnd.jupyter.widget-view+json": {
       "model_id": "d8a18a1213144360aa338356e7f8b936",
       "version_major": 2,
       "version_minor": 0
      },
      "text/plain": [
       "IntSlider(value=0, description='channel', max=2)"
      ]
     },
     "metadata": {},
     "output_type": "display_data"
    },
    {
     "data": {
      "application/vnd.jupyter.widget-view+json": {
       "model_id": "4b340eb464c243c99ee83a104a19cbea",
       "version_major": 2,
       "version_minor": 0
      },
      "text/plain": [
       "IntSlider(value=0, description='row', max=31)"
      ]
     },
     "metadata": {},
     "output_type": "display_data"
    },
    {
     "data": {
      "application/vnd.jupyter.widget-view+json": {
       "model_id": "dac8f9a20e03408f966962fdae01b57a",
       "version_major": 2,
       "version_minor": 0
      },
      "text/plain": [
       "IntSlider(value=0, description='col', max=31)"
      ]
     },
     "metadata": {},
     "output_type": "display_data"
    },
    {
     "data": {
      "application/vnd.jupyter.widget-view+json": {
       "model_id": "de00a19a324345a5b79835bde82f5c33",
       "version_major": 2,
       "version_minor": 0
      },
      "text/plain": [
       "FloatSlider(value=0.5, description='val', max=1.0, step=0.05)"
      ]
     },
     "metadata": {},
     "output_type": "display_data"
    },
    {
     "data": {
      "application/vnd.jupyter.widget-view+json": {
       "model_id": "7d8ac2710f9b4bce8b7b13cf61a2bcb1",
       "version_major": 2,
       "version_minor": 0
      },
      "text/plain": [
       "Dropdown(description='layer', options=('conv1', 'layer1.0.conv1', 'layer1.0.conv2', 'layer1.1.conv1', 'layer1.…"
      ]
     },
     "metadata": {},
     "output_type": "display_data"
    },
    {
     "data": {
      "application/vnd.jupyter.widget-view+json": {
       "model_id": "3f9330b887da4b36af3052cf45ffd892",
       "version_major": 2,
       "version_minor": 0
      },
      "text/plain": [
       "Button(description='Run', style=ButtonStyle())"
      ]
     },
     "metadata": {},
     "output_type": "display_data"
    },
    {
     "data": {
      "application/vnd.jupyter.widget-view+json": {
       "model_id": "e7c4f416640540d6b902eeff0bb7474c",
       "version_major": 2,
       "version_minor": 0
      },
      "text/plain": [
       "Output()"
      ]
     },
     "metadata": {},
     "output_type": "display_data"
    }
   ],
   "source": [
    "import ipywidgets as widgets\n",
    "from IPython.display import display\n",
    "\n",
    "# === 你的原始函數 ===\n",
    "def visualize_pixel_layer(channel=0 ,row=0, col=0, val=0.0, layer=layer_names[0]):\n",
    "    img_mod = img_raw.clone()\n",
    "    img_mod[channel, row, col] = val\n",
    "\n",
    "    fig, ax = plt.subplots(1, 2, figsize=(6,3))\n",
    "    ax[0].imshow(tensor_to_img(img_raw))\n",
    "    ax[0].set_title(\"Original\")\n",
    "    ax[0].axis(\"off\")\n",
    "\n",
    "    ax[1].imshow(tensor_to_img(img_mod))\n",
    "    ax[1].set_title(\"Modified\")\n",
    "    ax[1].axis(\"off\")\n",
    "    plt.show()\n",
    "\n",
    "    x_mod = normalize(img_mod).unsqueeze(0).to(device)\n",
    "    acts_mod, acts_mod_inp = get_activations(model, x_mod)\n",
    "\n",
    "    a_orig = acts_orig[layer][0]   # shape: (C,H,W)\n",
    "    a_orig_inp = torch.sign(acts_orig_inp[layer][0])\n",
    "    \n",
    "    a_mod = acts_mod[layer][0]\n",
    "    a_mod_inp = torch.sign(acts_mod_inp[layer][0])\n",
    "\n",
    "    if layer == \"fc\":\n",
    "        print(\"orig_act:\",a_orig)\n",
    "        print(\"mod_act:\", a_mod)\n",
    "        print(\"diff:\", a_mod - a_orig)\n",
    "        print(\"orig_pred:\",torch.max(a_mod,0)[1], \"mod_pred:\",torch.max(a_orig,0)[1])\n",
    "    else:\n",
    "    \n",
    "        # === output feature maps ===\n",
    "        num_channels = min(6, a_orig.shape[0])\n",
    "        fig, axes = plt.subplots(3, num_channels, figsize=(15, 7))\n",
    "        fig.suptitle(f\"Layer_output: {layer} | Pixel=({row},{col}) val={val:.2f}\", fontsize=14)\n",
    "    \n",
    "        for ch in range(num_channels):\n",
    "            im0 = axes[0, ch].imshow(a_orig[ch].numpy(), cmap=\"viridis\")\n",
    "            fig.colorbar(im0, ax=axes[0, ch], fraction=0.046, pad=0.04)\n",
    "            axes[0, ch].set_title(f\"Orig ch{ch}\")\n",
    "            axes[0, ch].axis(\"off\")\n",
    "    \n",
    "            im1 = axes[1, ch].imshow(a_mod[ch].numpy(), cmap=\"viridis\")\n",
    "            fig.colorbar(im1, ax=axes[1, ch], fraction=0.046, pad=0.04)\n",
    "            axes[1, ch].set_title(f\"Mod ch{ch}\")\n",
    "            axes[1, ch].axis(\"off\")\n",
    "    \n",
    "            diff = a_mod[ch] - a_orig[ch]\n",
    "            im2 = axes[2, ch].imshow(diff.numpy(), cmap=\"bwr\", vmin=-diff.abs().max(), vmax=diff.abs().max())\n",
    "            fig.colorbar(im2, ax=axes[2, ch], fraction=0.046, pad=0.04)\n",
    "            axes[2, ch].set_title(\"Diff\")\n",
    "            axes[2, ch].axis(\"off\")\n",
    "    \n",
    "        plt.show()\n",
    "\n",
    "    # # === input feature maps ===\n",
    "    # num_channels = min(6, a_orig_inp.shape[0])\n",
    "    # fig, axes = plt.subplots(3, num_channels, figsize=(15, 7))\n",
    "    # fig.suptitle(f\"Layer_input: {layer} | Pixel=({row},{col}) val={val:.2f}\", fontsize=14)\n",
    "    \n",
    "    # for ch in range(num_channels):\n",
    "    #     im0 = axes[0, ch].imshow(a_orig_inp[ch].numpy(), cmap=\"viridis\")\n",
    "    #     fig.colorbar(im0, ax=axes[0, ch], fraction=0.046, pad=0.04)\n",
    "    #     axes[0, ch].set_title(f\"Orig ch{ch}\")\n",
    "    #     axes[0, ch].axis(\"off\")\n",
    "\n",
    "    #     im1 = axes[1, ch].imshow(a_mod_inp[ch].numpy(), cmap=\"viridis\")\n",
    "    #     fig.colorbar(im1, ax=axes[1, ch], fraction=0.046, pad=0.04)\n",
    "    #     axes[1, ch].set_title(f\"Mod ch{ch}\")\n",
    "    #     axes[1, ch].axis(\"off\")\n",
    "\n",
    "    #     diff = a_mod_inp[ch] - a_orig_inp[ch]\n",
    "    #     print(diff)\n",
    "    #     im2 = axes[2, ch].imshow(diff.numpy(), cmap=\"bwr\", vmin=-diff.abs().max(), vmax=diff.abs().max())\n",
    "    #     fig.colorbar(im2, ax=axes[2, ch], fraction=0.046, pad=0.04)\n",
    "    #     axes[2, ch].set_title(\"Diff\")\n",
    "    #     axes[2, ch].axis(\"off\")\n",
    "\n",
    "    # plt.show()\n",
    "\n",
    "\n",
    "# === 建立控制元件 ===\n",
    "channel = widgets.IntSlider(min=0, max=2, step=1, value=0, description=\"channel\")\n",
    "row     = widgets.IntSlider(min=0, max=31, step=1, value=0, description=\"row\")\n",
    "col     = widgets.IntSlider(min=0, max=31, step=1, value=0, description=\"col\")\n",
    "val     = widgets.FloatSlider(min=0.0, max=1.0, step=0.05, value=0.5, description=\"val\")\n",
    "layer   = widgets.Dropdown(options=layer_names, value=layer_names[0], description=\"layer\")\n",
    "\n",
    "button = widgets.Button(description=\"Run\")\n",
    "out = widgets.Output()\n",
    "\n",
    "# === 按下按鈕才會執行 ===\n",
    "def on_button_click(b):\n",
    "    with out:\n",
    "        out.clear_output()\n",
    "        visualize_pixel_layer(\n",
    "            channel=channel.value,\n",
    "            row=row.value,\n",
    "            col=col.value,\n",
    "            val=val.value,\n",
    "            layer=layer.value\n",
    "        )\n",
    "\n",
    "button.on_click(on_button_click)\n",
    "\n",
    "# === 顯示 UI ===\n",
    "display(channel, row, col, val, layer, button, out)\n"
   ]
  },
  {
   "cell_type": "code",
   "execution_count": null,
   "id": "c86684ef-7ae9-4901-b3d7-084a4cefce91",
   "metadata": {},
   "outputs": [],
   "source": []
  }
 ],
 "metadata": {
  "kernelspec": {
   "display_name": "Python 3 (ipykernel)",
   "language": "python",
   "name": "python3"
  },
  "language_info": {
   "codemirror_mode": {
    "name": "ipython",
    "version": 3
   },
   "file_extension": ".py",
   "mimetype": "text/x-python",
   "name": "python",
   "nbconvert_exporter": "python",
   "pygments_lexer": "ipython3",
   "version": "3.12.10"
  }
 },
 "nbformat": 4,
 "nbformat_minor": 5
}
